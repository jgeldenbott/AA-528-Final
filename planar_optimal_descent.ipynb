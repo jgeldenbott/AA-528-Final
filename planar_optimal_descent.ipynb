{
 "cells": [
  {
   "cell_type": "code",
   "execution_count": 1,
   "metadata": {},
   "outputs": [],
   "source": [
    "import jax.numpy as np\n",
    "import cvxpy as cp\n",
    "import jax\n",
    "import matplotlib.pyplot as plt\n",
    "import gurobipy\n",
    "\n",
    "from dataclasses import dataclass"
   ]
  },
  {
   "cell_type": "code",
   "execution_count": 67,
   "metadata": {},
   "outputs": [],
   "source": [
    "# hyperparameter definition\n",
    "N = 100\n",
    "t0 = 0\n",
    "m0 = 2.0\n",
    "alpha = 0.0034\n",
    "r0 = np.array([4.5, 16.5])\n",
    "rf = np.array([0.0, 0.0])\n",
    "v0 = np.array([-10.0, -1.5])\n",
    "vf = np.array([0.0, 0.0])\n",
    "omega0 = 0\n",
    "omegaf = 0\n",
    "theta0 = 0\n",
    "thetaf = 0\n",
    "g = -1.0\n",
    "gamma_min = 1.5\n",
    "gamma_max = 6.5\n",
    "tau_max = 1\n",
    "J = 0.25\n",
    "terminal_weight = 100.0\n",
    "trust_weight = 100.0"
   ]
  },
  {
   "cell_type": "markdown",
   "metadata": {},
   "source": [
    "We will define our state as follows:\n",
    "\n",
    "\\begin{align*}\n",
    "    x = \\begin{bmatrix} m(t)\\\\r(t)\\\\v(t)\\\\\\theta(t)\\\\\\omega(t) \\end{bmatrix}\n",
    "\\end{align*}\n",
    "\n",
    "It is important to note that both $r$ and $v$ are denoted in y-z coordinates.\n",
    "\n",
    "We define our control vector as follows:\n",
    "\n",
    "\\begin{align*}\n",
    "    u = \\begin{bmatrix} \\Gamma(t)\\\\\\tau(t) \\end{bmatrix}\n",
    "\\end{align*}"
   ]
  },
  {
   "cell_type": "code",
   "execution_count": 68,
   "metadata": {},
   "outputs": [],
   "source": [
    "def f(x, u, params):\n",
    "    '''\n",
    "    State-space dynamics for the planar descent vehicle\n",
    "    Inputs:\n",
    "        x = [m, r, v, omega, theta] has 7 elements\n",
    "        u = [Gamma, tau] has 2 elements\n",
    "    Outputs:\n",
    "        xdot = [m_dot, r_dot, v_dot, omega_dot, theta_dot] has 7 elements\n",
    "    '''\n",
    "\n",
    "    # extract state and control variables\n",
    "    m = x[0]\n",
    "    r = x[1:3]\n",
    "    v = x[3:5]\n",
    "    omega = x[5]\n",
    "    theta = x[6]\n",
    "    Gamma = u[0]\n",
    "    tau = u[1]\n",
    "\n",
    "    # extract the parameters\n",
    "    alpha = params.alpha\n",
    "    g = params.g * np.array([0, 1])\n",
    "    J = params.J\n",
    "\n",
    "    # other intermdeiate variables\n",
    "    d = np.array([-np.sin(theta), np.cos(theta)])\n",
    "\n",
    "    m_dot = -alpha * Gamma\n",
    "    r_dot = v\n",
    "    v_dot = Gamma / m * d + g\n",
    "    theta_dot = omega\n",
    "    omega_dot = tau / J\n",
    "\n",
    "    xdot = np.array([m_dot, r_dot[0], r_dot[1], v_dot[0], v_dot[1], omega_dot, theta_dot])\n",
    "    return xdot"
   ]
  },
  {
   "cell_type": "code",
   "execution_count": 69,
   "metadata": {},
   "outputs": [],
   "source": [
    "def A_jac(x, u, params):\n",
    "    m = x[0]\n",
    "    r = x[1:3]\n",
    "    v = x[3:5]\n",
    "    omega = x[5]\n",
    "    theta = x[6]\n",
    "    Gamma = u[0]\n",
    "    tau = u[1]\n",
    "\n",
    "\n",
    "    # extract the parameters\n",
    "    alpha = params.alpha\n",
    "    g = params.g * np.array([0, 1])\n",
    "    J = params.J\n",
    "\n",
    "    A = np.array([\n",
    "        [0., 0., 0., 0., 0., 0., 0.],\n",
    "        [0., 0., 0., 1., 0., 0., 0.],\n",
    "        [0., 0., 0., 0., 1., 0., 0.],\n",
    "        [Gamma/m**2 * np.sin(theta), 0., 0., 0., 0., Gamma/m * np.cos(theta), 0.],\n",
    "        [-Gamma/m**2 * np.cos(theta), 0., 0., 0., 0., -Gamma/m * np.sin(theta), 0.],\n",
    "        [0., 0., 0., 0., 0., 0., 1.],\n",
    "        [0., 0., 0., 0., 0., 0., 0.]\n",
    "    ])\n",
    "\n",
    "    return A\n",
    "\n",
    "def B_jac(x, u, params):\n",
    "    m = x[0]\n",
    "    r = x[1:3]\n",
    "    v = x[3:5]\n",
    "    omega = x[5]\n",
    "    theta = x[6]\n",
    "    Gamma = u[0]\n",
    "    tau = u[1]\n",
    "\n",
    "\n",
    "    # extract the parameters\n",
    "    alpha = params.alpha\n",
    "    g = params.g * np.array([0., 1.])\n",
    "    J = params.J\n",
    "\n",
    "    B = np.array([\n",
    "        [-alpha, 0.],\n",
    "        [0., 0.],\n",
    "        [0., 0.],\n",
    "        [-np.sin(theta)/m, 0.],\n",
    "        [np.cos(theta)/m, 0.],\n",
    "        [0., 0.],\n",
    "        [0., 1/J]\n",
    "    ])\n",
    "\n",
    "    return B\n",
    "\n",
    "def C_jac(x, u, A, B, params):\n",
    "    return f(x, u, params) - A @ x - B @ u\n"
   ]
  },
  {
   "cell_type": "code",
   "execution_count": 70,
   "metadata": {},
   "outputs": [],
   "source": [
    "def linearize_dynamics(x, u, params):\n",
    "    A = jax.jacfwd(f, argnums=0)(x, u, params)\n",
    "    B = jax.jacfwd(f, argnums=1)(x, u, params)\n",
    "    C = f(x, u, params) - A @ x - B @ u\n",
    "    return A, B, C"
   ]
  },
  {
   "cell_type": "code",
   "execution_count": 71,
   "metadata": {},
   "outputs": [],
   "source": [
    "def discrete_step(x_bar, u_bar, x, u, params):\n",
    "    dt = params.dt\n",
    "    A, B, C = linearize_dynamics(x_bar, u_bar, params)\n",
    "    return (A * dt + np.eye(A.shape[0])) @ x + (B * dt) @ u + C\n",
    "    "
   ]
  },
  {
   "cell_type": "code",
   "execution_count": 72,
   "metadata": {},
   "outputs": [],
   "source": [
    "def scaled_dynamics(x, u, t_f, params):\n",
    "    return t_f * f(x, u, params)"
   ]
  },
  {
   "cell_type": "markdown",
   "metadata": {},
   "source": [
    "Next, we need to assign the parameters that go into our dynamics as an object"
   ]
  },
  {
   "cell_type": "code",
   "execution_count": 73,
   "metadata": {},
   "outputs": [],
   "source": [
    "@dataclass\n",
    "class Params:\n",
    "    N: int\n",
    "    dt: float\n",
    "    alpha: float\n",
    "    g: float\n",
    "    J: float\n",
    "    tau_max: float\n",
    "    gamma_min: float\n",
    "    gamma_max: float"
   ]
  },
  {
   "cell_type": "code",
   "execution_count": 74,
   "metadata": {},
   "outputs": [],
   "source": [
    "problem_params = Params(N=N, dt=0.1, alpha=alpha, g=g, J=J, tau_max=tau_max, gamma_min=gamma_min, gamma_max=gamma_max)"
   ]
  },
  {
   "cell_type": "markdown",
   "metadata": {},
   "source": [
    "Next, we need to linearize our dynamics since they are nonlinear"
   ]
  },
  {
   "cell_type": "code",
   "execution_count": 75,
   "metadata": {},
   "outputs": [],
   "source": [
    "x0 = np.array([m0, *r0, *v0, omega0, theta0])\n",
    "u0 = np.array([0.0, 0.0])\n",
    "t_f = 10\n",
    "dt = t_f / N\n",
    "problem_params.dt = dt\n",
    "A, B, C = linearize_dynamics(x0, u0, problem_params)\n",
    "\n",
    "tf_min = 20.\n",
    "tf_max = 60."
   ]
  },
  {
   "cell_type": "markdown",
   "metadata": {},
   "source": [
    "# Formulating as an SCP problem"
   ]
  },
  {
   "cell_type": "code",
   "execution_count": 96,
   "metadata": {},
   "outputs": [
    {
     "name": "stdout",
     "output_type": "stream",
     "text": [
      "===============================================================================\n",
      "                                     CVXPY                                     \n",
      "                                     v1.6.0                                    \n",
      "===============================================================================\n",
      "(CVXPY) Mar 08 05:39:54 PM: Your problem has 909 variables, 1212 constraints, and 0 parameters.\n",
      "(CVXPY) Mar 08 05:39:54 PM: It is compliant with the following grammars: DCP, DQCP\n",
      "(CVXPY) Mar 08 05:39:54 PM: (If you need to solve this problem multiple times, but with different data, consider using parameters.)\n",
      "(CVXPY) Mar 08 05:39:54 PM: CVXPY will first compile your problem; then, it will invoke a numerical solver to obtain a solution.\n",
      "(CVXPY) Mar 08 05:39:54 PM: Your problem is compiled with the CPP canonicalization backend.\n",
      "-------------------------------------------------------------------------------\n",
      "                                  Compilation                                  \n",
      "-------------------------------------------------------------------------------\n",
      "(CVXPY) Mar 08 05:39:54 PM: Compiling problem (target solver=GUROBI).\n",
      "(CVXPY) Mar 08 05:39:54 PM: Reduction chain: CvxAttr2Constr -> Qp2SymbolicQp -> QpMatrixStuffing -> GUROBI\n",
      "(CVXPY) Mar 08 05:39:54 PM: Applying reduction CvxAttr2Constr\n",
      "(CVXPY) Mar 08 05:39:54 PM: Applying reduction Qp2SymbolicQp\n",
      "(CVXPY) Mar 08 05:39:54 PM: Applying reduction QpMatrixStuffing\n",
      "(CVXPY) Mar 08 05:39:55 PM: Applying reduction GUROBI\n",
      "(CVXPY) Mar 08 05:39:55 PM: Finished problem compilation (took 9.320e-02 seconds).\n",
      "-------------------------------------------------------------------------------\n",
      "                                Numerical solver                               \n",
      "-------------------------------------------------------------------------------\n",
      "(CVXPY) Mar 08 05:39:55 PM: Invoking solver GUROBI  to obtain a solution.\n",
      "Set parameter OutputFlag to value 1\n",
      "Set parameter QCPDual to value 1\n",
      "Gurobi Optimizer version 12.0.1 build v12.0.1rc0 (mac64[arm] - Darwin 24.3.0 24D70)\n",
      "\n",
      "CPU model: Apple M1\n",
      "Thread count: 8 physical cores, 8 logical processors, using up to 8 threads\n",
      "\n",
      "Non-default parameters:\n",
      "QCPDual  1\n",
      "\n",
      "Optimize a model with 1923 rows, 1620 columns and 4235 nonzeros\n",
      "Model fingerprint: 0xffd5f136\n",
      "Model has 711 quadratic objective terms\n",
      "Coefficient statistics:\n",
      "  Matrix range     [3e-04, 1e+00]\n",
      "  Objective range  [1e+00, 1e+01]\n",
      "  QObjective range [2e+02, 2e+02]\n",
      "  Bounds range     [0e+00, 0e+00]\n",
      "  RHS range        [2e-02, 2e+01]\n",
      "Presolve removed 1151 rows and 728 columns\n",
      "Presolve time: 0.00s\n",
      "Presolved: 772 rows, 892 columns, 2327 nonzeros\n",
      "Presolved model has 693 quadratic objective terms\n",
      "Ordering time: 0.00s\n",
      "\n",
      "Barrier statistics:\n",
      " Free vars  : 2\n",
      " AA' NZ     : 4.908e+03\n",
      " Factor NZ  : 1.620e+04 (roughly 1 MB of memory)\n",
      " Factor Ops : 4.682e+05 (less than 1 second per iteration)\n",
      " Threads    : 1\n",
      "\n",
      "                  Objective                Residual\n",
      "Iter       Primal          Dual         Primal    Dual     Compl     Time\n",
      "   0   1.04961875e+08 -3.46710820e+09  1.80e+03 1.00e+03  9.98e+05     0s\n",
      "   1   3.63782949e+08 -2.27753851e+09  1.99e+02 1.11e+02  1.35e+05     0s\n",
      "   2   1.01788269e+08 -1.05440864e+09  3.36e+01 1.87e+01  3.26e+04     0s\n",
      "   3   3.37139290e+07 -2.38380194e+08  4.12e+00 2.19e+00  5.35e+03     0s\n",
      "   4   1.21603864e+07 -6.46882404e+07  7.40e-01 4.11e-01  1.30e+03     0s\n",
      "   5   6.60097181e+06 -2.69073108e+07  1.87e-01 9.39e-02  5.05e+02     0s\n",
      "   6   5.76771527e+06 -2.37471272e+07  1.42e-01 7.91e-02  4.63e+02     0s\n",
      "   7   3.41076730e+06 -6.21514967e+06  3.31e-02 1.81e-02  1.45e+02     0s\n",
      "   8   2.74019466e+06 -9.50485268e+05  7.98e-03 4.43e-03  5.26e+01     0s\n",
      "   9   2.38586761e+06  1.76141266e+06  3.33e-04 1.85e-04  8.41e+00     0s\n",
      "  10   2.29977865e+06  2.21564832e+06  2.66e-05 1.48e-05  1.13e+00     0s\n",
      "  11   2.29363080e+06  2.26000392e+06  2.66e-11 1.60e-11  4.49e-01     0s\n",
      "  12   2.28907271e+06  2.28558416e+06  2.19e-12 2.07e-12  4.66e-02     0s\n",
      "  13   2.28858813e+06  2.28813884e+06  8.75e-14 6.14e-13  6.01e-03     0s\n",
      "  14   2.28858123e+06  2.28820282e+06  6.48e-14 6.57e-13  5.06e-03     0s\n",
      "  15   2.28854932e+06  2.28848564e+06  8.44e-15 3.68e-13  8.51e-04     0s\n",
      "  16   2.28854265e+06  2.28853698e+06  8.44e-15 5.15e-13  7.57e-05     0s\n",
      "  17   2.28854209e+06  2.28854198e+06  7.11e-15 6.33e-13  1.52e-06     0s\n",
      "  18   2.28854208e+06  2.28854208e+06  7.11e-15 8.61e-13  3.71e-09     0s\n",
      "\n",
      "Barrier solved model in 18 iterations and 0.02 seconds (0.01 work units)\n",
      "Optimal objective 2.28854208e+06\n",
      "\n",
      "-------------------------------------------------------------------------------\n",
      "                                    Summary                                    \n",
      "-------------------------------------------------------------------------------\n",
      "(CVXPY) Mar 08 05:39:55 PM: Problem status: optimal\n",
      "(CVXPY) Mar 08 05:39:55 PM: Optimal value: 2.289e+06\n",
      "(CVXPY) Mar 08 05:39:55 PM: Compilation took 9.320e-02 seconds\n",
      "(CVXPY) Mar 08 05:39:55 PM: Solver (including time spent in interface) took 9.511e-02 seconds\n"
     ]
    }
   ],
   "source": [
    "x0 = np.array([m0, *r0, *v0, omega0, theta0])\n",
    "u0 = np.array([1.5, 0.0])\n",
    "xf = np.array([2.8, *rf, *vf, omegaf, thetaf])\n",
    "uf = np.array([1.5, 0.0])\n",
    "\n",
    "x_guess = np.linspace(x0, xf, N+1)\n",
    "u_guess = np.linspace(u0, uf, N)\n",
    "\n",
    "for i in range(1):\n",
    "    x = cp.Variable((N+1, 7))\n",
    "    u = cp.Variable((N, 2))\n",
    "    # tf = cp.Variable(pos=True)\n",
    "    epsilon = cp.Variable((2,))\n",
    "\n",
    "    cost = 0\n",
    "    constraints = []\n",
    "\n",
    "    # cost += cp.sum_squares(u[:, 0])    \n",
    "    cost += cp.sum(u[:, 0])\n",
    "    # cost += tf\n",
    "    cost += cp.quad_form(x[-1, 3:5] - xf[3:5], terminal_weight * np.eye(2))\n",
    "    cost += cp.quad_form(x[-1, 1:3] - xf[1:3], terminal_weight * np.eye(2))\n",
    "    cost += sum(cp.quad_form(x[i, :] - x_guess[i, :], trust_weight * np.eye(7)) for i in range(N+1))    \n",
    "    cost += 10 * epsilon[0]\n",
    "    # cost += 10 * epsilon[1]**2\n",
    "    \n",
    "    constraints += [x[0] == x0]\n",
    "    constraints += [u[:, 0] >= gamma_min]\n",
    "    constraints += [u[:, 0] <= gamma_max]\n",
    "    constraints += [u[:, 1] <= tau_max]\n",
    "    constraints += [u[:, 1] >= -tau_max]\n",
    "    constraints += [x[-1, 1:3] == xf[1:3]]\n",
    "    constraints += [x[:, 1] >= -epsilon[0]]\n",
    "    constraints += [epsilon >= 0.0]\n",
    "    # constraints += [x[:, 3:5] == xf[3:5] + epsilon[1]]\n",
    "    # constraints += [tf >= tf_min]\n",
    "    # constraints += [tf <= tf_max]\n",
    "\n",
    "    # dt = tf / N\n",
    "    for i in range(N):\n",
    "        A = A_jac(x_guess[i, :], u_guess[i, :], problem_params)\n",
    "        B = B_jac(x_guess[i, :], u_guess[i, :], problem_params)\n",
    "        C = C_jac(x_guess[i, :], u_guess[i, :], A, B, problem_params)\n",
    "        constraints += [x[i+1] == (A @ x[i] + (B) @ u[i] + C) * dt + x[i]]\n",
    "        # constraints += [x[i+1] == discrete_step(x_guess[i, :], u_guess[i, :], x[i, :], u[i, :], problem_params)]\n",
    "\n",
    "    objective = cp.Minimize(cost)\n",
    "    problem = cp.Problem(objective, constraints)\n",
    "    # could use any cvx solver here\n",
    "    problem.solve(solver=cp.GUROBI, verbose=True)\n",
    "    problem = None\n",
    "\n",
    "    x_guess = x.value\n",
    "    u_guess = u.value\n"
   ]
  },
  {
   "cell_type": "code",
   "execution_count": 97,
   "metadata": {},
   "outputs": [
    {
     "data": {
      "image/png": "[encoded data removed]",
      "text/plain": [
       "<Figure size 800x600 with 1 Axes>"
      ]
     },
     "metadata": {},
     "output_type": "display_data"
    }
   ],
   "source": [
    "r_x = x.value[:, 1]  # x position\n",
    "r_y = x.value[:, 2]  # y position\n",
    "v_x = x.value[:, 3]\n",
    "v_y = x.value[:, 4]\n",
    "\n",
    "# Plot the trajectory\n",
    "plt.figure(figsize=(8, 6))\n",
    "plt.plot(r_x, r_y, 'bo-', label=\"Optimal Trajectory\")  # Blue line with circles\n",
    "plt.plot(x0[1], x0[2], 'go', markersize=10, label=\"Start (Initial Position)\")  # Green start point\n",
    "plt.plot(xf[1], xf[2], 'ro', markersize=10, label=\"Goal (Final Position)\")  # Red target point\n",
    "\n",
    "# Add velocity vector arrows\n",
    "scale_factor = 0.1  # Adjust for arrow size\n",
    "plt.quiver(r_x, r_y, v_x, v_y, angles='xy', scale_units='xy', scale=1/scale_factor, color='r', width=0.003)\n",
    "\n",
    "# Labels and formatting\n",
    "plt.xlabel(\"X Position (LU)\")\n",
    "plt.ylabel(\"Y Position (LU)\")\n",
    "plt.title(\"Optimal Lander Trajectory (X vs Y)\")\n",
    "plt.legend()\n",
    "plt.grid(True)\n",
    "\n",
    "# Show the plot\n",
    "plt.show()"
   ]
  },
  {
   "cell_type": "code",
   "execution_count": 93,
   "metadata": {},
   "outputs": [
    {
     "data": {
      "text/plain": [
       "array([ 1.92098182e+00, -0.00000000e+00, -0.00000000e+00, -6.64129815e-01,\n",
       "       -8.82526956e-01, -8.60553732e-01,  1.20237449e-09])"
      ]
     },
     "execution_count": 93,
     "metadata": {},
     "output_type": "execute_result"
    }
   ],
   "source": [
    "x.value[-1]"
   ]
  },
  {
   "cell_type": "code",
   "execution_count": null,
   "metadata": {},
   "outputs": [],
   "source": []
  }
 ],
 "metadata": {
  "kernelspec": {
   "display_name": "Python 3",
   "language": "python",
   "name": "python3"
  },
  "language_info": {
   "codemirror_mode": {
    "name": "ipython",
    "version": 3
   },
   "file_extension": ".py",
   "mimetype": "text/x-python",
   "name": "python",
   "nbconvert_exporter": "python",
   "pygments_lexer": "ipython3",
   "version": "3.10.2"
  }
 },
 "nbformat": 4,
 "nbformat_minor": 2
}
