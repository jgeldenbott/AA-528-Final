{
 "cells": [
  {
   "cell_type": "code",
   "execution_count": 1,
   "metadata": {},
   "outputs": [],
   "source": [
    "import jax.numpy as np\n",
    "import cvxpy as cp\n",
    "import jax\n",
    "import matplotlib.pyplot as plt\n",
    "import gurobipy\n",
    "\n",
    "from dataclasses import dataclass"
   ]
  },
  {
   "cell_type": "code",
   "execution_count": 102,
   "metadata": {},
   "outputs": [],
   "source": [
    "# hyperparameter definition\n",
    "N = 100\n",
    "t0 = 0\n",
    "m0 = 2.0\n",
    "alpha = 0.0034\n",
    "r0 = np.array([4.5, 16.5])\n",
    "rf = np.array([0.0, 0.0])\n",
    "v0 = np.array([-10.0, -1.5])\n",
    "vf = np.array([0.0, 0.0])\n",
    "omega0 = 0\n",
    "omegaf = 0\n",
    "theta0 = 0\n",
    "thetaf = 0\n",
    "g = -1.0\n",
    "gamma_min = 1.5\n",
    "gamma_max = 6.5\n",
    "tau_max = 1\n",
    "J = 0.25\n",
    "terminal_weight = 100.0\n",
    "trust_weight = 1.0"
   ]
  },
  {
   "cell_type": "markdown",
   "metadata": {},
   "source": [
    "We will define our state as follows:\n",
    "\n",
    "\\begin{align*}\n",
    "    x = \\begin{bmatrix} m(t)\\\\r(t)\\\\v(t)\\\\\\theta(t)\\\\\\omega(t) \\end{bmatrix}\n",
    "\\end{align*}\n",
    "\n",
    "It is important to note that both $r$ and $v$ are denoted in y-z coordinates.\n",
    "\n",
    "We define our control vector as follows:\n",
    "\n",
    "\\begin{align*}\n",
    "    u = \\begin{bmatrix} \\Gamma(t)\\\\\\tau(t) \\end{bmatrix}\n",
    "\\end{align*}"
   ]
  },
  {
   "cell_type": "code",
   "execution_count": 103,
   "metadata": {},
   "outputs": [],
   "source": [
    "def f(x, u, params):\n",
    "    '''\n",
    "    State-space dynamics for the planar descent vehicle\n",
    "    Inputs:\n",
    "        x = [m, r, v, omega, theta] has 7 elements\n",
    "        u = [Gamma, tau] has 2 elements\n",
    "    Outputs:\n",
    "        xdot = [m_dot, r_dot, v_dot, omega_dot, theta_dot] has 7 elements\n",
    "    '''\n",
    "\n",
    "    # extract state and control variables\n",
    "    m = x[0]\n",
    "    r = x[1:3]\n",
    "    v = x[3:5]\n",
    "    omega = x[5]\n",
    "    theta = x[6]\n",
    "    Gamma = u[0]\n",
    "    tau = u[1]\n",
    "\n",
    "    # extract the parameters\n",
    "    alpha = params.alpha\n",
    "    g = params.g * np.array([0, 1])\n",
    "    J = params.J\n",
    "\n",
    "    # other intermdeiate variables\n",
    "    d = np.array([-np.sin(theta), np.cos(theta)])\n",
    "\n",
    "    m_dot = -alpha * Gamma\n",
    "    r_dot = v\n",
    "    v_dot = Gamma / m * d + g\n",
    "    theta_dot = omega\n",
    "    omega_dot = tau / J\n",
    "\n",
    "    xdot = np.array([m_dot, r_dot[0], r_dot[1], v_dot[0], v_dot[1], omega_dot, theta_dot])\n",
    "    return xdot"
   ]
  },
  {
   "cell_type": "code",
   "execution_count": 104,
   "metadata": {},
   "outputs": [],
   "source": [
    "def A_jac(x, u, params):\n",
    "    m = x[0]\n",
    "    r = x[1:3]\n",
    "    v = x[3:5]\n",
    "    omega = x[5]\n",
    "    theta = x[6]\n",
    "    Gamma = u[0]\n",
    "    tau = u[1]\n",
    "\n",
    "\n",
    "    # extract the parameters\n",
    "    alpha = params.alpha\n",
    "    g = params.g * np.array([0, 1])\n",
    "    J = params.J\n",
    "\n",
    "    A = np.array([\n",
    "        [0., 0., 0., 0., 0., 0., 0.],\n",
    "        [0., 0., 0., 1., 0., 0., 0.],\n",
    "        [0., 0., 0., 0., 1., 0., 0.],\n",
    "        [Gamma/m**2 * np.sin(theta), 0., 0., 0., 0., Gamma/m * np.cos(theta), 0.],\n",
    "        [-Gamma/m**2 * np.cos(theta), 0., 0., 0., 0., -Gamma/m * np.sin(theta), 0.],\n",
    "        [0., 0., 0., 0., 0., 0., 1.],\n",
    "        [0., 0., 0., 0., 0., 0., 0.]\n",
    "    ])\n",
    "\n",
    "    return A\n",
    "\n",
    "def B_jac(x, u, params):\n",
    "    m = x[0]\n",
    "    r = x[1:3]\n",
    "    v = x[3:5]\n",
    "    omega = x[5]\n",
    "    theta = x[6]\n",
    "    Gamma = u[0]\n",
    "    tau = u[1]\n",
    "\n",
    "\n",
    "    # extract the parameters\n",
    "    alpha = params.alpha\n",
    "    g = params.g * np.array([0., 1.])\n",
    "    J = params.J\n",
    "\n",
    "    B = np.array([\n",
    "        [-alpha, 0.],\n",
    "        [0., 0.],\n",
    "        [0., 0.],\n",
    "        [-np.sin(theta)/m, 0.],\n",
    "        [np.cos(theta)/m, 0.],\n",
    "        [0., 0.],\n",
    "        [0., 1/J]\n",
    "    ])\n",
    "\n",
    "    return B\n",
    "\n",
    "def C_jac(x, u, A, B, params):\n",
    "    return f(x, u, params) - A @ x - B @ u\n"
   ]
  },
  {
   "cell_type": "code",
   "execution_count": 105,
   "metadata": {},
   "outputs": [],
   "source": [
    "def linearize_dynamics(x, u, params):\n",
    "    A = jax.jacfwd(f, argnums=0)(x, u, params)\n",
    "    B = jax.jacfwd(f, argnums=1)(x, u, params)\n",
    "    C = f(x, u, params) - A @ x - B @ u\n",
    "    return A, B, C"
   ]
  },
  {
   "cell_type": "code",
   "execution_count": 106,
   "metadata": {},
   "outputs": [],
   "source": [
    "def discrete_step(x_bar, u_bar, x, u, params):\n",
    "    dt = params.dt\n",
    "    A, B, C = linearize_dynamics(x_bar, u_bar, params)\n",
    "    return (A * dt + np.eye(A.shape[0])) @ x + (B * dt) @ u + C\n",
    "    "
   ]
  },
  {
   "cell_type": "code",
   "execution_count": 107,
   "metadata": {},
   "outputs": [],
   "source": [
    "def scaled_dynamics(x, u, t_f, params):\n",
    "    return t_f * f(x, u, params)"
   ]
  },
  {
   "cell_type": "markdown",
   "metadata": {},
   "source": [
    "Next, we need to assign the parameters that go into our dynamics as an object"
   ]
  },
  {
   "cell_type": "code",
   "execution_count": 108,
   "metadata": {},
   "outputs": [],
   "source": [
    "@dataclass\n",
    "class Params:\n",
    "    N: int\n",
    "    dt: float\n",
    "    alpha: float\n",
    "    g: float\n",
    "    J: float\n",
    "    tau_max: float\n",
    "    gamma_min: float\n",
    "    gamma_max: float"
   ]
  },
  {
   "cell_type": "code",
   "execution_count": 109,
   "metadata": {},
   "outputs": [],
   "source": [
    "problem_params = Params(N=N, dt=0.1, alpha=alpha, g=g, J=J, tau_max=tau_max, gamma_min=gamma_min, gamma_max=gamma_max)"
   ]
  },
  {
   "cell_type": "markdown",
   "metadata": {},
   "source": [
    "Next, we need to linearize our dynamics since they are nonlinear"
   ]
  },
  {
   "cell_type": "code",
   "execution_count": 110,
   "metadata": {},
   "outputs": [],
   "source": [
    "x0 = np.array([m0, *r0, *v0, omega0, theta0])\n",
    "u0 = np.array([0.0, 0.0])\n",
    "t_f = 12\n",
    "dt = t_f / N\n",
    "problem_params.dt = dt\n",
    "A, B, C = linearize_dynamics(x0, u0, problem_params)\n",
    "\n",
    "tf_min = 20.\n",
    "tf_max = 60."
   ]
  },
  {
   "cell_type": "markdown",
   "metadata": {},
   "source": [
    "# Formulating as an SCP problem"
   ]
  },
  {
   "cell_type": "code",
   "execution_count": 114,
   "metadata": {},
   "outputs": [
    {
     "name": "stdout",
     "output_type": "stream",
     "text": [
      "===============================================================================\n",
      "                                     CVXPY                                     \n",
      "                                     v1.6.0                                    \n",
      "===============================================================================\n",
      "(CVXPY) Mar 08 05:41:59 PM: Your problem has 909 variables, 1212 constraints, and 0 parameters.\n",
      "(CVXPY) Mar 08 05:41:59 PM: It is compliant with the following grammars: DCP, DQCP\n",
      "(CVXPY) Mar 08 05:41:59 PM: (If you need to solve this problem multiple times, but with different data, consider using parameters.)\n",
      "(CVXPY) Mar 08 05:41:59 PM: CVXPY will first compile your problem; then, it will invoke a numerical solver to obtain a solution.\n",
      "(CVXPY) Mar 08 05:41:59 PM: Your problem is compiled with the CPP canonicalization backend.\n",
      "-------------------------------------------------------------------------------\n",
      "                                  Compilation                                  \n",
      "-------------------------------------------------------------------------------\n",
      "(CVXPY) Mar 08 05:41:59 PM: Compiling problem (target solver=GUROBI).\n",
      "(CVXPY) Mar 08 05:41:59 PM: Reduction chain: CvxAttr2Constr -> Qp2SymbolicQp -> QpMatrixStuffing -> GUROBI\n",
      "(CVXPY) Mar 08 05:41:59 PM: Applying reduction CvxAttr2Constr\n",
      "(CVXPY) Mar 08 05:41:59 PM: Applying reduction Qp2SymbolicQp\n",
      "(CVXPY) Mar 08 05:42:00 PM: Applying reduction QpMatrixStuffing\n",
      "(CVXPY) Mar 08 05:42:00 PM: Applying reduction GUROBI\n",
      "(CVXPY) Mar 08 05:42:00 PM: Finished problem compilation (took 2.055e-01 seconds).\n",
      "-------------------------------------------------------------------------------\n",
      "                                Numerical solver                               \n",
      "-------------------------------------------------------------------------------\n",
      "(CVXPY) Mar 08 05:42:00 PM: Invoking solver GUROBI  to obtain a solution.\n",
      "Set parameter OutputFlag to value 1\n",
      "Set parameter QCPDual to value 1\n",
      "Gurobi Optimizer version 12.0.1 build v12.0.1rc0 (mac64[arm] - Darwin 24.3.0 24D70)\n",
      "\n",
      "CPU model: Apple M1\n",
      "Thread count: 8 physical cores, 8 logical processors, using up to 8 threads\n",
      "\n",
      "Non-default parameters:\n",
      "QCPDual  1\n",
      "\n",
      "Optimize a model with 1923 rows, 1620 columns and 4235 nonzeros\n",
      "Model fingerprint: 0x6cf984bc\n",
      "Model has 711 quadratic objective terms\n",
      "Coefficient statistics:\n",
      "  Matrix range     [4e-04, 1e+00]\n",
      "  Objective range  [1e+00, 1e+01]\n",
      "  QObjective range [2e+00, 2e+02]\n",
      "  Bounds range     [0e+00, 0e+00]\n",
      "  RHS range        [2e-02, 2e+01]\n",
      "Presolve removed 1148 rows and 728 columns\n",
      "Presolve time: 0.00s\n",
      "Presolved: 775 rows, 892 columns, 2333 nonzeros\n",
      "Presolved model has 693 quadratic objective terms\n",
      "Ordering time: 0.00s\n",
      "\n",
      "Barrier statistics:\n",
      " Free vars  : 2\n",
      " AA' NZ     : 5.154e+03\n",
      " Factor NZ  : 1.642e+04 (roughly 1 MB of memory)\n",
      " Factor Ops : 4.887e+05 (less than 1 second per iteration)\n",
      " Threads    : 1\n",
      "\n",
      "                  Objective                Residual\n",
      "Iter       Primal          Dual         Primal    Dual     Compl     Time\n",
      "   0   3.29546051e+07 -1.20726173e+09  1.96e+03 1.00e+03  9.99e+05     0s\n",
      "   1   3.99547882e+08 -1.20142557e+09  3.21e+02 1.64e+02  1.81e+05     0s\n",
      "   2   6.00240088e+07 -5.66827673e+08  3.62e+01 1.84e+01  2.72e+04     0s\n",
      "   3   1.35365676e+07 -2.38872085e+08  6.64e+00 3.39e+00  6.82e+03     0s\n",
      "   4   5.26437212e+06 -1.20346699e+08  2.33e+00 1.17e+00  2.93e+03     0s\n",
      "   5   2.68338440e+06 -6.06398165e+07  9.65e-01 4.84e-01  1.37e+03     0s\n",
      "   6   1.17067863e+06 -2.79224182e+07  3.37e-01 1.70e-01  5.79e+02     0s\n",
      "   7   3.87792594e+05 -9.54582819e+06  4.58e-02 2.34e-02  1.53e+02     0s\n",
      "   8   3.21532848e+05 -6.92329360e+06  2.90e-02 1.45e-02  1.10e+02     0s\n",
      "   9   3.13536728e+05 -6.66554157e+06  2.71e-02 1.38e-02  1.07e+02     0s\n",
      "  10   2.23942330e+05 -2.91986367e+06  8.92e-03 4.55e-03  4.74e+01     0s\n",
      "  11   9.79888833e+04 -5.77928518e+05  6.20e-04 3.16e-04  9.22e+00     0s\n",
      "  12   4.51312165e+04 -1.33248369e+05  6.21e-05 3.17e-05  2.39e+00     0s\n",
      "  13   3.08957725e+04 -5.02734986e+04  1.69e-05 8.63e-06  1.08e+00     0s\n",
      "  14   2.19057544e+04  5.17669656e+03  8.76e-07 4.47e-07  2.23e-01     0s\n",
      "  15   1.99937375e+04  1.56923502e+04  1.68e-07 8.56e-08  5.73e-02     0s\n",
      "  16   1.95229818e+04  1.87563216e+04  1.36e-08 6.93e-09  1.02e-02     0s\n",
      "  17   1.94954508e+04  1.92895653e+04  1.36e-14 4.50e-14  2.74e-03     0s\n",
      "  18   1.94806098e+04  1.94450827e+04  1.80e-15 2.81e-14  4.74e-04     0s\n",
      "  19   1.94786260e+04  1.94662725e+04  1.25e-15 5.68e-14  1.65e-04     0s\n",
      "  20   1.94779518e+04  1.94770946e+04  7.77e-16 5.68e-14  1.14e-05     0s\n",
      "  21   1.94779046e+04  1.94778935e+04  9.99e-16 3.00e-14  1.49e-07     0s\n",
      "  22   1.94779039e+04  1.94779038e+04  1.44e-15 2.60e-14  4.02e-10     0s\n",
      "\n",
      "Barrier solved model in 22 iterations and 0.02 seconds (0.01 work units)\n",
      "Optimal objective 1.94779039e+04\n",
      "\n",
      "-------------------------------------------------------------------------------\n",
      "                                    Summary                                    \n",
      "-------------------------------------------------------------------------------\n",
      "(CVXPY) Mar 08 05:42:00 PM: Problem status: optimal\n",
      "(CVXPY) Mar 08 05:42:00 PM: Optimal value: 1.948e+04\n",
      "(CVXPY) Mar 08 05:42:00 PM: Compilation took 2.055e-01 seconds\n",
      "(CVXPY) Mar 08 05:42:00 PM: Solver (including time spent in interface) took 2.664e-02 seconds\n"
     ]
    }
   ],
   "source": [
    "x0 = np.array([m0, *r0, *v0, omega0, theta0])\n",
    "u0 = np.array([1.5, 0.0])\n",
    "xf = np.array([1.8, *rf, *vf, omegaf, thetaf])\n",
    "uf = np.array([1.5, 0.0])\n",
    "\n",
    "x_guess = np.linspace(x0, xf, N+1)\n",
    "u_guess = np.linspace(u0, uf, N)\n",
    "\n",
    "for i in range(1):\n",
    "    x = cp.Variable((N+1, 7))\n",
    "    u = cp.Variable((N, 2))\n",
    "    # tf = cp.Variable(pos=True)\n",
    "    epsilon = cp.Variable((2,))\n",
    "\n",
    "    cost = 0\n",
    "    constraints = []\n",
    "\n",
    "    # cost += cp.sum_squares(u[:, 0])    \n",
    "    cost += cp.sum(u[:, 0])\n",
    "    # cost += tf\n",
    "    cost += cp.quad_form(x[-1, 3:5] - xf[3:5], terminal_weight * np.eye(2))\n",
    "    cost += cp.quad_form(x[-1, 1:3] - xf[1:3], terminal_weight * np.eye(2))\n",
    "    cost += sum(cp.quad_form(x[i, :] - x_guess[i, :], trust_weight * np.eye(7)) for i in range(N+1))    \n",
    "    cost += 10 * epsilon[0]\n",
    "    # cost += 10 * epsilon[1]**2\n",
    "    \n",
    "    constraints += [x[0] == x0]\n",
    "    constraints += [u[:, 0] >= gamma_min]\n",
    "    constraints += [u[:, 0] <= gamma_max]\n",
    "    constraints += [u[:, 1] <= tau_max]\n",
    "    constraints += [u[:, 1] >= -tau_max]\n",
    "    constraints += [x[-1, 1:3] == xf[1:3]]\n",
    "    constraints += [x[:, 1] >= -epsilon[0]]\n",
    "    constraints += [epsilon >= 0.0]\n",
    "    # constraints += [x[:, 3:5] == xf[3:5] + epsilon[1]]\n",
    "    # constraints += [tf >= tf_min]\n",
    "    # constraints += [tf <= tf_max]\n",
    "\n",
    "    # dt = tf / N\n",
    "    for i in range(N):\n",
    "        A = A_jac(x_guess[i, :], u_guess[i, :], problem_params)\n",
    "        B = B_jac(x_guess[i, :], u_guess[i, :], problem_params)\n",
    "        C = C_jac(x_guess[i, :], u_guess[i, :], A, B, problem_params)\n",
    "        constraints += [x[i+1] == (A @ x[i] + (B) @ u[i] + C) * dt + x[i]]\n",
    "        # constraints += [x[i+1] == discrete_step(x_guess[i, :], u_guess[i, :], x[i, :], u[i, :], problem_params)]\n",
    "\n",
    "    objective = cp.Minimize(cost)\n",
    "    problem = cp.Problem(objective, constraints)\n",
    "    # could use any cvx solver here\n",
    "    problem.solve(solver=cp.GUROBI, verbose=True)\n",
    "    problem = None\n",
    "\n",
    "    x_guess = x.value\n",
    "    u_guess = u.value\n"
   ]
  },
  {
   "cell_type": "code",
   "execution_count": 115,
   "metadata": {},
   "outputs": [
    {
     "data": {
      "image/png": "[encoded data removed]",
      "text/plain": [
       "<Figure size 800x600 with 1 Axes>"
      ]
     },
     "metadata": {},
     "output_type": "display_data"
    }
   ],
   "source": [
    "r_x = x.value[:, 1]  # x position\n",
    "r_y = x.value[:, 2]  # y position\n",
    "v_x = x.value[:, 3]\n",
    "v_y = x.value[:, 4]\n",
    "\n",
    "# Plot the trajectory\n",
    "plt.figure(figsize=(8, 6))\n",
    "plt.plot(r_x, r_y, 'bo-', label=\"Optimal Trajectory\")  # Blue line with circles\n",
    "plt.plot(x0[1], x0[2], 'go', markersize=10, label=\"Start (Initial Position)\")  # Green start point\n",
    "plt.plot(xf[1], xf[2], 'ro', markersize=10, label=\"Goal (Final Position)\")  # Red target point\n",
    "\n",
    "# Add velocity vector arrows\n",
    "scale_factor = 0.1  # Adjust for arrow size\n",
    "plt.quiver(r_x, r_y, v_x, v_y, angles='xy', scale_units='xy', scale=1/scale_factor, color='r', width=0.003)\n",
    "\n",
    "# Labels and formatting\n",
    "plt.xlabel(\"X Position (LU)\")\n",
    "plt.ylabel(\"Y Position (LU)\")\n",
    "plt.title(\"Optimal Lander Trajectory (X vs Y)\")\n",
    "plt.legend()\n",
    "plt.grid(True)\n",
    "\n",
    "# Show the plot\n",
    "plt.show()"
   ]
  },
  {
   "cell_type": "code",
   "execution_count": 116,
   "metadata": {},
   "outputs": [
    {
     "data": {
      "text/plain": [
       "array([ 1.91185899e+00, -0.00000000e+00, -0.00000000e+00, -2.09920224e-02,\n",
       "       -1.00091014e-01,  3.03901725e-01, -2.08809352e-09])"
      ]
     },
     "execution_count": 116,
     "metadata": {},
     "output_type": "execute_result"
    }
   ],
   "source": [
    "x.value[-1]"
   ]
  },
  {
   "cell_type": "code",
   "execution_count": null,
   "metadata": {},
   "outputs": [],
   "source": []
  }
 ],
 "metadata": {
  "kernelspec": {
   "display_name": "Python 3",
   "language": "python",
   "name": "python3"
  },
  "language_info": {
   "codemirror_mode": {
    "name": "ipython",
    "version": 3
   },
   "file_extension": ".py",
   "mimetype": "text/x-python",
   "name": "python",
   "nbconvert_exporter": "python",
   "pygments_lexer": "ipython3",
   "version": "3.10.2"
  }
 },
 "nbformat": 4,
 "nbformat_minor": 2
}
