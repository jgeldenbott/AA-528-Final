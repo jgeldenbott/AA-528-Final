{
 "cells": [
  {
   "cell_type": "code",
   "execution_count": null,
   "metadata": {},
   "outputs": [],
   "source": [
    "import jax.numpy as np\n",
    "import cvxpy as cp\n",
    "import jax\n",
    "import matplotlib.pyplot as plt\n",
    "import gurobipy\n",
    "\n",
    "from dataclasses import dataclass"
   ]
  },
  {
   "cell_type": "code",
   "execution_count": 29,
   "metadata": {},
   "outputs": [],
   "source": [
    "# hyperparameter definition\n",
    "N = 100\n",
    "t0 = 0\n",
    "m0 = 2.0\n",
    "alpha = 0.0034\n",
    "r0 = np.array([4.5, 16.5])\n",
    "rf = np.array([0.0, 0.0])\n",
    "v0 = np.array([-10.0, -1.5])\n",
    "vf = np.array([0.0, 0.0])\n",
    "omega0 = 0\n",
    "omegaf = 0\n",
    "theta0 = 0\n",
    "thetaf = 0\n",
    "g = -1.0\n",
    "gamma_min = 0.5\n",
    "gamma_max = 10.0\n",
    "tau_max = 2\n",
    "J = 0.25\n",
    "terminal_weight = 100.0\n",
    "trust_weight = 1.0"
   ]
  },
  {
   "cell_type": "markdown",
   "metadata": {},
   "source": [
    "We will define our state as follows:\n",
    "\n",
    "\\begin{align*}\n",
    "    x = \\begin{bmatrix} m(t)\\\\r(t)\\\\v(t)\\\\\\theta(t)\\\\\\omega(t) \\end{bmatrix}\n",
    "\\end{align*}\n",
    "\n",
    "It is important to note that both $r$ and $v$ are denoted in y-z coordinates.\n",
    "\n",
    "We define our control vector as follows:\n",
    "\n",
    "\\begin{align*}\n",
    "    u = \\begin{bmatrix} \\Gamma(t)\\\\\\tau(t) \\end{bmatrix}\n",
    "\\end{align*}"
   ]
  },
  {
   "cell_type": "code",
   "execution_count": 30,
   "metadata": {},
   "outputs": [],
   "source": [
    "def f(x, u, params):\n",
    "    '''\n",
    "    State-space dynamics for the planar descent vehicle\n",
    "    Inputs:\n",
    "        x = [m, r, v, omega, theta] has 7 elements\n",
    "        u = [Gamma, tau] has 2 elements\n",
    "    Outputs:\n",
    "        xdot = [m_dot, r_dot, v_dot, omega_dot, theta_dot] has 7 elements\n",
    "    '''\n",
    "\n",
    "    # extract state and control variables\n",
    "    m = x[0]\n",
    "    r = x[1:3]\n",
    "    v = x[3:5]\n",
    "    omega = x[5]\n",
    "    theta = x[6]\n",
    "    Gamma = u[0]\n",
    "    tau = u[1]\n",
    "\n",
    "    # extract the parameters\n",
    "    alpha = params.alpha\n",
    "    g = params.g * np.array([0, 1])\n",
    "    J = params.J\n",
    "\n",
    "    # other intermdeiate variables\n",
    "    d = np.array([-np.sin(theta), np.cos(theta)])\n",
    "\n",
    "    m_dot = -alpha * Gamma\n",
    "    r_dot = v\n",
    "    v_dot = Gamma / m * d + g\n",
    "    theta_dot = omega\n",
    "    omega_dot = tau / J\n",
    "\n",
    "    xdot = np.array([m_dot, r_dot[0], r_dot[1], v_dot[0], v_dot[1], omega_dot, theta_dot])\n",
    "    return xdot"
   ]
  },
  {
   "cell_type": "code",
   "execution_count": 31,
   "metadata": {},
   "outputs": [],
   "source": [
    "def A_jac(x, u, params):\n",
    "    m = x[0]\n",
    "    r = x[1:3]\n",
    "    v = x[3:5]\n",
    "    omega = x[5]\n",
    "    theta = x[6]\n",
    "    Gamma = u[0]\n",
    "    tau = u[1]\n",
    "\n",
    "\n",
    "    # extract the parameters\n",
    "    alpha = params.alpha\n",
    "    g = params.g * np.array([0, 1])\n",
    "    J = params.J\n",
    "\n",
    "    A = np.array([\n",
    "        [0., 0., 0., 0., 0., 0., 0.],\n",
    "        [0., 0., 0., 1., 0., 0., 0.],\n",
    "        [0., 0., 0., 0., 1., 0., 0.],\n",
    "        [Gamma/m**2 * np.sin(theta), 0., 0., 0., 0., Gamma/m * np.cos(theta), 0.],\n",
    "        [-Gamma/m**2 * np.cos(theta), 0., 0., 0., 0., -Gamma/m * np.sin(theta), 0.],\n",
    "        [0., 0., 0., 0., 0., 0., 1.],\n",
    "        [0., 0., 0., 0., 0., 0., 0.]\n",
    "    ])\n",
    "\n",
    "    return A\n",
    "\n",
    "def B_jac(x, u, params):\n",
    "    m = x[0]\n",
    "    r = x[1:3]\n",
    "    v = x[3:5]\n",
    "    omega = x[5]\n",
    "    theta = x[6]\n",
    "    Gamma = u[0]\n",
    "    tau = u[1]\n",
    "\n",
    "\n",
    "    # extract the parameters\n",
    "    alpha = params.alpha\n",
    "    g = params.g * np.array([0., 1.])\n",
    "    J = params.J\n",
    "\n",
    "    B = np.array([\n",
    "        [-alpha, 0.],\n",
    "        [0., 0.],\n",
    "        [0., 0.],\n",
    "        [-np.sin(theta)/m, 0.],\n",
    "        [np.cos(theta)/m, 0.],\n",
    "        [0., 0.],\n",
    "        [0., 1/J]\n",
    "    ])\n",
    "\n",
    "    return B\n",
    "\n",
    "def C_jac(x, u, A, B, params):\n",
    "    return f(x, u, params) - A @ x - B @ u\n"
   ]
  },
  {
   "cell_type": "code",
   "execution_count": 32,
   "metadata": {},
   "outputs": [],
   "source": [
    "def linearize_dynamics(x, u, params):\n",
    "    A = jax.jacfwd(f, argnums=0)(x, u, params)\n",
    "    B = jax.jacfwd(f, argnums=1)(x, u, params)\n",
    "    C = f(x, u, params) - A @ x - B @ u\n",
    "    return A, B, C"
   ]
  },
  {
   "cell_type": "code",
   "execution_count": 33,
   "metadata": {},
   "outputs": [],
   "source": [
    "def discrete_step(x_bar, u_bar, x, u, params):\n",
    "    dt = params.dt\n",
    "    A, B, C = linearize_dynamics(x_bar, u_bar, params)\n",
    "    return (A * dt + np.eye(A.shape[0])) @ x + (B * dt) @ u + C\n",
    "    "
   ]
  },
  {
   "cell_type": "code",
   "execution_count": 34,
   "metadata": {},
   "outputs": [],
   "source": [
    "def scaled_dynamics(x, u, t_f, params):\n",
    "    return t_f * f(x, u, params)"
   ]
  },
  {
   "cell_type": "markdown",
   "metadata": {},
   "source": [
    "Next, we need to assign the parameters that go into our dynamics as an object"
   ]
  },
  {
   "cell_type": "code",
   "execution_count": 35,
   "metadata": {},
   "outputs": [],
   "source": [
    "@dataclass\n",
    "class Params:\n",
    "    N: int\n",
    "    dt: float\n",
    "    alpha: float\n",
    "    g: float\n",
    "    J: float\n",
    "    tau_max: float\n",
    "    gamma_min: float\n",
    "    gamma_max: float"
   ]
  },
  {
   "cell_type": "code",
   "execution_count": 36,
   "metadata": {},
   "outputs": [],
   "source": [
    "problem_params = Params(N=N, dt=0.1, alpha=alpha, g=g, J=J, tau_max=tau_max, gamma_min=gamma_min, gamma_max=gamma_max)"
   ]
  },
  {
   "cell_type": "markdown",
   "metadata": {},
   "source": [
    "Next, we need to linearize our dynamics since they are nonlinear"
   ]
  },
  {
   "cell_type": "code",
   "execution_count": 41,
   "metadata": {},
   "outputs": [],
   "source": [
    "x0 = np.array([m0, *r0, *v0, omega0, theta0])\n",
    "u0 = np.array([0.0, 0.0])\n",
    "t_f = 100\n",
    "dt = t_f / N\n",
    "A, B, C = linearize_dynamics(x0, u0, problem_params)\n",
    "\n",
    "tf_min = 20.\n",
    "tf_max = 60."
   ]
  },
  {
   "cell_type": "markdown",
   "metadata": {},
   "source": [
    "# Formulating as an SCP problem"
   ]
  },
  {
   "cell_type": "code",
   "execution_count": null,
   "metadata": {},
   "outputs": [],
   "source": [
    "x0 = np.array([m0, *r0, *v0, omega0, theta0])\n",
    "u0 = np.array([1.5, 0.0])\n",
    "xf = np.array([0.0, *rf, *vf, omegaf, thetaf])\n",
    "uf = np.array([1.5, 0.0])\n",
    "\n",
    "x_guess = np.linspace(x0, xf, N+1)\n",
    "u_guess = np.linspace(u0, uf, N)\n",
    "\n",
    "for i in range(1):\n",
    "    x = cp.Variable((N+1, 7))\n",
    "    u = cp.Variable((N, 2))\n",
    "    # tf = cp.Variable(pos=True)\n",
    "    epsilon = cp.Variable((2,))\n",
    "\n",
    "    cost = 0\n",
    "    constraints = []\n",
    "\n",
    "    # cost += cp.sum_squares(u[:, 0])    \n",
    "    cost += cp.sum(u[:, 0])\n",
    "    # cost += tf\n",
    "    cost += cp.quad_form(x[-1, 3:5] - xf[3:5], terminal_weight * np.eye(2))\n",
    "    # cost += cp.quad_form(x[-1, 1:3] - xf[1:3], terminal_weight * np.eye(2))\n",
    "    cost += sum(cp.quad_form(x[i, :] - x_guess[i, :], trust_weight * np.eye(7)) for i in range(N+1))    \n",
    "    cost += 10 * epsilon[0]\n",
    "    cost += 10 * epsilon[1]\n",
    "    \n",
    "    constraints += [x[0] == x0]\n",
    "    constraints += [u[:, 0] >= gamma_min]\n",
    "    constraints += [u[:, 0] <= gamma_max]\n",
    "    constraints += [u[:, 1] <= tau_max]\n",
    "    constraints += [u[:, 1] >= -tau_max]\n",
    "    constraints += [x[-1, 1:3] == xf[1:3]]\n",
    "    constraints += [x[:, 1] >= -epsilon[0]]\n",
    "    constraints += [epsilon >= 0.0]\n",
    "    # constraints += [x[:, 3:5] == xf[3:5]]\n",
    "    # constraints += [tf >= tf_min]\n",
    "    # constraints += [tf <= tf_max]\n",
    "\n",
    "    # dt = tf / N\n",
    "    for i in range(N):\n",
    "        A = A_jac(x_guess[i, :], u_guess[i, :], problem_params)\n",
    "        B = B_jac(x_guess[i, :], u_guess[i, :], problem_params)\n",
    "        C = C_jac(x_guess[i, :], u_guess[i, :], A, B, problem_params)\n",
    "        constraints += [x[i+1] == ((A*dt) @ x[i] + (B*dt) @ u[i] + C) * problem_params.dt + x[i]]\n",
    "\n",
    "    objective = cp.Minimize(cost)\n",
    "    problem = cp.Problem(objective, constraints)\n",
    "    # could use any cvx solver here\n",
    "    problem.solve(solver=cp.GUROBI)\n",
    "    problem = None\n",
    "\n",
    "    x_guess = x.value\n",
    "    u_guess = u.value\n"
   ]
  },
  {
   "cell_type": "code",
   "execution_count": 43,
   "metadata": {},
   "outputs": [
    {
     "data": {
      "image/png": "[encoded data removed]",
      "text/plain": [
       "<Figure size 800x600 with 1 Axes>"
      ]
     },
     "metadata": {},
     "output_type": "display_data"
    }
   ],
   "source": [
    "r_x = x.value[:, 1]  # x position\n",
    "r_y = x.value[:, 2]  # y position\n",
    "v_x = x.value[:, 3]\n",
    "v_y = x.value[:, 4]\n",
    "\n",
    "# Plot the trajectory\n",
    "plt.figure(figsize=(8, 6))\n",
    "plt.plot(r_x, r_y, 'bo-', label=\"Optimal Trajectory\")  # Blue line with circles\n",
    "plt.plot(x0[1], x0[2], 'go', markersize=10, label=\"Start (Initial Position)\")  # Green start point\n",
    "plt.plot(xf[1], xf[2], 'ro', markersize=10, label=\"Goal (Final Position)\")  # Red target point\n",
    "\n",
    "# Add velocity vector arrows\n",
    "scale_factor = 0.1  # Adjust for arrow size\n",
    "plt.quiver(r_x, r_y, v_x, v_y, angles='xy', scale_units='xy', scale=1/scale_factor, color='r', width=0.003)\n",
    "\n",
    "# Labels and formatting\n",
    "plt.xlabel(\"X Position (LU)\")\n",
    "plt.ylabel(\"Y Position (LU)\")\n",
    "plt.title(\"Optimal Lander Trajectory (X vs Y)\")\n",
    "plt.legend()\n",
    "plt.grid(True)\n",
    "\n",
    "# Show the plot\n",
    "plt.show()"
   ]
  },
  {
   "cell_type": "code",
   "execution_count": 44,
   "metadata": {},
   "outputs": [
    {
     "data": {
      "text/plain": [
       "array([ 1.82800522e+00, -0.00000000e+00, -0.00000000e+00,  2.74812780e-03,\n",
       "       -8.74975894e+02, -3.55900606e-02,  3.51056489e-11])"
      ]
     },
     "execution_count": 44,
     "metadata": {},
     "output_type": "execute_result"
    }
   ],
   "source": [
    "x.value[-1]"
   ]
  },
  {
   "cell_type": "code",
   "execution_count": null,
   "metadata": {},
   "outputs": [],
   "source": []
  }
 ],
 "metadata": {
  "kernelspec": {
   "display_name": "Python 3",
   "language": "python",
   "name": "python3"
  },
  "language_info": {
   "codemirror_mode": {
    "name": "ipython",
    "version": 3
   },
   "file_extension": ".py",
   "mimetype": "text/x-python",
   "name": "python",
   "nbconvert_exporter": "python",
   "pygments_lexer": "ipython3",
   "version": "3.10.2"
  }
 },
 "nbformat": 4,
 "nbformat_minor": 2
}
